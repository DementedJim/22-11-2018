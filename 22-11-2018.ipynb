{
 "cells": [
  {
   "cell_type": "markdown",
   "metadata": {},
   "source": [
    "## Строки, байты, файлы (str, files)\n",
    "\n",
    "### Особенности\n",
    "\n",
    "Строки можно обозначать с помощью одинарных или двойных кавычек. Сделано это для удобства (чтобы в печатаемом тексте можно было отображать различные кавычки)."
   ]
  },
  {
   "cell_type": "code",
   "execution_count": 1,
   "metadata": {},
   "outputs": [
    {
     "data": {
      "text/plain": [
       "'This is string'"
      ]
     },
     "execution_count": 1,
     "metadata": {},
     "output_type": "execute_result"
    }
   ],
   "source": [
    "'This is string'"
   ]
  },
  {
   "cell_type": "code",
   "execution_count": 2,
   "metadata": {},
   "outputs": [
    {
     "data": {
      "text/plain": [
       "'This is also string'"
      ]
     },
     "execution_count": 2,
     "metadata": {},
     "output_type": "execute_result"
    }
   ],
   "source": [
    "\"This is also string\""
   ]
  },
  {
   "cell_type": "markdown",
   "metadata": {},
   "source": [
    "Тройные кавычки используются писать многострочные блоки текста: документация для функций, модулей, классов."
   ]
  },
  {
   "cell_type": "code",
   "execution_count": null,
   "metadata": {},
   "outputs": [],
   "source": [
    "str = \"\"\"This is multiline\n",
    "\n",
    "\n",
    "text\n",
    "\n",
    "with \n",
    "\n",
    "\n",
    "vertical brakes\"\"\"\n",
    "\n",
    "\n",
    "print(str)"
   ]
  },
  {
   "cell_type": "markdown",
   "metadata": {},
   "source": [
    "Строки, идущие подряд, склеиваются:"
   ]
  },
  {
   "cell_type": "code",
   "execution_count": null,
   "metadata": {},
   "outputs": [],
   "source": [
    "def foo(str):\n",
    "    return str\n",
    "\n",
    "foo(\"Nick\"\n",
    "   \" Zhukov\"\n",
    "   \" emailto: njhuckov@gmail.com\")"
   ]
  },
  {
   "cell_type": "markdown",
   "metadata": {},
   "source": [
    "Строковые литералы могут содержать экранированные последовательности.В сырых строках (raw strings) экранированные последовательности не обрабатываются."
   ]
  },
  {
   "cell_type": "code",
   "execution_count": 3,
   "metadata": {},
   "outputs": [
    {
     "name": "stdout",
     "output_type": "stream",
     "text": [
      "This is \t tabulation\n",
      "This is raw string with \\t tabulation\n"
     ]
    }
   ],
   "source": [
    "print(\"This is \\t tabulation\")\n",
    "print(r\"This is raw string with \\t tabulation\")"
   ]
  },
  {
   "cell_type": "markdown",
   "metadata": {},
   "source": [
    "Тип str - неизменяемая последовательность символов Unicode."
   ]
  },
  {
   "cell_type": "code",
   "execution_count": 8,
   "metadata": {},
   "outputs": [
    {
     "name": "stdout",
     "output_type": "stream",
     "text": [
      "<class 'str'>\n",
      "<class 'str'>\n"
     ]
    }
   ],
   "source": [
    "str = \"str oka\"\n",
    "\n",
    "lst = list('str oka') \n",
    "print(type(str))\n",
    "print(type(lst[2]))"
   ]
  },
  {
   "cell_type": "markdown",
   "metadata": {},
   "source": [
    "В Python нет отдельного типа для символов. Всё есть строка. Даже символ - строка.\n",
    "\n",
    "Python поддерживает экранированные последовательности для символов Юникода:"
   ]
  },
  {
   "cell_type": "code",
   "execution_count": 9,
   "metadata": {},
   "outputs": [
    {
     "data": {
      "text/plain": [
       "('h', 'i')"
      ]
     },
     "execution_count": 9,
     "metadata": {},
     "output_type": "execute_result"
    }
   ],
   "source": [
    "\"\\u0068\", \"\\u0069\""
   ]
  },
  {
   "cell_type": "markdown",
   "metadata": {},
   "source": [
    "Можно также получить символ по имени с помощью названия в строковом представлении.\n",
    "\n",
    "Для получения символа по его коду можно использовать функцию chr(), а для обратной операции — ord()."
   ]
  },
  {
   "cell_type": "code",
   "execution_count": 24,
   "metadata": {},
   "outputs": [
    {
     "name": "stdout",
     "output_type": "stream",
     "text": [
      "1072\n",
      "Џ\n",
      "1041\n"
     ]
    }
   ],
   "source": [
    "print(ord('а'))\n",
    "print(chr(1039))\n",
    "print(ord('Б'))"
   ]
  },
  {
   "cell_type": "markdown",
   "metadata": {},
   "source": [
    "Для работы со строками доступно множество методов. Например:\n",
    "\n",
    "capitalize() – Переводит первый символ строки в верхний регистр, а все остальные в нижний\n",
    "title() – Первую букву каждого слова переводит в верхний регистр, а все остальные в нижний\n",
    "upper() – Преобразование строки к верхнему регистру\n",
    "lower() – Преобразование строки к нижнему регистру\n",
    "swapcase() – Переводит символы нижнего регистра в верхний, а верхнего – в нижний"
   ]
  },
  {
   "cell_type": "code",
   "execution_count": null,
   "metadata": {},
   "outputs": [],
   "source": [
    "'hello world'.capitalize()"
   ]
  },
  {
   "cell_type": "markdown",
   "metadata": {},
   "source": [
    "## Выравнивание\n",
    "При выводе мы можем выравнивать строку в неком блоке фиксированной ширины. Для этого используются:\n",
    "\n",
    "\"foo bar\".ljust(16, '~')\n",
    "\"foo bar\".rjust(16, '~')\n",
    "\"foo bar\".center(16, '~')\n",
    "Здесь первый параметр - длина (размер) блока, а дополнительные позиции заполняются (если указано) символом (второй аргумент). По умолчанию используется пробельный символ. Если длина блока меньше длины строки, то строка возвращается без изменений."
   ]
  },
  {
   "cell_type": "code",
   "execution_count": 26,
   "metadata": {},
   "outputs": [
    {
     "data": {
      "text/plain": [
       "'~~~~~~~~~foo bar'"
      ]
     },
     "execution_count": 26,
     "metadata": {},
     "output_type": "execute_result"
    }
   ],
   "source": [
    "\"foo bar\".ljust(16, '•')"
   ]
  },
  {
   "cell_type": "markdown",
   "metadata": {},
   "source": [
    "## Удаление символов\n",
    "lstrip() и rstrip(), strip() — удаляет символы, указанные в качестве параметра справа, слева, везде. Если вызвать без аргумента, удалит пробельные символы с обоих концов\n",
    "\n",
    "Разделение строки\n",
    "split() - разделяет строку на подстроки по указанному разделителю. Если не указан разделитель, то строка делится по любым пробельным символам."
   ]
  },
  {
   "cell_type": "code",
   "execution_count": 30,
   "metadata": {},
   "outputs": [
    {
     "data": {
      "text/plain": [
       "' This is a CSS comment */'"
      ]
     },
     "execution_count": 30,
     "metadata": {},
     "output_type": "execute_result"
    }
   ],
   "source": [
    "\"/* This is a CSS comment */\".lstrip(\"/*\")"
   ]
  },
  {
   "cell_type": "code",
   "execution_count": 35,
   "metadata": {},
   "outputs": [
    {
     "data": {
      "text/plain": [
       "' This is a CSS comment '"
      ]
     },
     "execution_count": 35,
     "metadata": {},
     "output_type": "execute_result"
    }
   ],
   "source": [
    "\"<!-- This is a CSS comment -->\".strip(\"<!-->\") # удаляет все символы, рассматривая аргумент как МНОЖЕСТВО значений для удаления"
   ]
  },
  {
   "cell_type": "markdown",
   "metadata": {},
   "source": [
    "Второй аргумент у функции split() - максимальное количество разделений, разделение справа - rsplit()."
   ]
  },
  {
   "cell_type": "code",
   "execution_count": 36,
   "metadata": {},
   "outputs": [
    {
     "data": {
      "text/plain": [
       "['Karolina', 'Sasha', 'Maxim', 'kek']"
      ]
     },
     "execution_count": 36,
     "metadata": {},
     "output_type": "execute_result"
    }
   ],
   "source": [
    "\"Karolina,Sasha,Maxim,kek\".split(',')"
   ]
  },
  {
   "cell_type": "code",
   "execution_count": 38,
   "metadata": {},
   "outputs": [
    {
     "data": {
      "text/plain": [
       "['file', 'tar', 'gz']"
      ]
     },
     "execution_count": 38,
     "metadata": {},
     "output_type": "execute_result"
    }
   ],
   "source": [
    "\"file.tar.gz\".rsplit(\".\",2)"
   ]
  },
  {
   "cell_type": "markdown",
   "metadata": {},
   "source": [
    "Разбивает строку на три составляющие (начало, разделитель, конец) и возвращает в виде кортежа. Направление разбиения: слева направо.\n",
    "\n",
    "С помощью функции partition() можно вернуть кортеж из трех элементов, подстрока до вхождения разделителя, сам разделитель и подстрока после вхождения разделителя, где разделитель - последний встреченный. Структура возвращаемого результата всегда фиксирована."
   ]
  },
  {
   "cell_type": "code",
   "execution_count": 40,
   "metadata": {},
   "outputs": [
    {
     "data": {
      "text/plain": [
       "('foo.', 'bar', '.baz')"
      ]
     },
     "execution_count": 40,
     "metadata": {},
     "output_type": "execute_result"
    }
   ],
   "source": [
    "\"foo.bar.baz\".rpartition(\"bar\")"
   ]
  },
  {
   "cell_type": "code",
   "execution_count": null,
   "metadata": {},
   "outputs": [],
   "source": [
    "\"foo.bar.baz\".rpartition(\".\")"
   ]
  },
  {
   "cell_type": "markdown",
   "metadata": {},
   "source": [
    "Строки можно конкатенировать с помощью +, а можно с использованием функции join(). Указывается с разделителем. Необходимо привести объект к строке, если это не будет строкой, то будет вызвана ошибка."
   ]
  },
  {
   "cell_type": "code",
   "execution_count": 41,
   "metadata": {},
   "outputs": [
    {
     "data": {
      "text/plain": [
       "'foo, bar, kek'"
      ]
     },
     "execution_count": 41,
     "metadata": {},
     "output_type": "execute_result"
    }
   ],
   "source": [
    "\", \".join([\"foo\", \"bar\", \"kek\"])"
   ]
  },
  {
   "cell_type": "code",
   "execution_count": 42,
   "metadata": {},
   "outputs": [
    {
     "data": {
      "text/plain": [
       "'f,o,o'"
      ]
     },
     "execution_count": 42,
     "metadata": {},
     "output_type": "execute_result"
    }
   ],
   "source": [
    "\",\".join('foo')"
   ]
  },
  {
   "cell_type": "markdown",
   "metadata": {},
   "source": [
    "## Проверка на вхождение \n",
    "Проверка подстроки в строке с помощью операторов in, not in:"
   ]
  },
  {
   "cell_type": "code",
   "execution_count": 43,
   "metadata": {},
   "outputs": [
    {
     "data": {
      "text/plain": [
       "True"
      ]
     },
     "execution_count": 43,
     "metadata": {},
     "output_type": "execute_result"
    }
   ],
   "source": [
    "\"bar\" in \"foobar\""
   ]
  },
  {
   "cell_type": "markdown",
   "metadata": {},
   "source": [
    "Можно сравнивать префикс или суффикс строки с одной или несколькими строками:"
   ]
  },
  {
   "cell_type": "code",
   "execution_count": 44,
   "metadata": {},
   "outputs": [
    {
     "data": {
      "text/plain": [
       "True"
      ]
     },
     "execution_count": 44,
     "metadata": {},
     "output_type": "execute_result"
    }
   ],
   "source": [
    "\"foobar\".startswith(\"foo\")"
   ]
  },
  {
   "cell_type": "code",
   "execution_count": 45,
   "metadata": {},
   "outputs": [
    {
     "data": {
      "text/plain": [
       "True"
      ]
     },
     "execution_count": 45,
     "metadata": {},
     "output_type": "execute_result"
    }
   ],
   "source": [
    "\"foobar\".endswith((\"100500\",\"bar\"))"
   ]
  },
  {
   "cell_type": "markdown",
   "metadata": {},
   "source": [
    "## Поиск подстроки\n",
    "Найти место первого вхождения подстроки можно с помощью метода find(). Если не нашёл искомой подстроки, вернет “-1”."
   ]
  },
  {
   "cell_type": "code",
   "execution_count": 46,
   "metadata": {},
   "outputs": [
    {
     "data": {
      "text/plain": [
       "12"
      ]
     },
     "execution_count": 46,
     "metadata": {},
     "output_type": "execute_result"
    }
   ],
   "source": [
    "\"someverylongstringsentence\".find(\"str\")"
   ]
  },
  {
   "cell_type": "markdown",
   "metadata": {},
   "source": [
    "Метод index() выполняет аналогичную функцию, но, если искомая подстрока не найдена выбрасывает исключение:"
   ]
  },
  {
   "cell_type": "code",
   "execution_count": 48,
   "metadata": {},
   "outputs": [
    {
     "ename": "ValueError",
     "evalue": "substring not found",
     "output_type": "error",
     "traceback": [
      "\u001b[1;31m---------------------------------------------------------------------------\u001b[0m",
      "\u001b[1;31mValueError\u001b[0m                                Traceback (most recent call last)",
      "\u001b[1;32m<ipython-input-48-da82fe2b517b>\u001b[0m in \u001b[0;36m<module>\u001b[1;34m()\u001b[0m\n\u001b[1;32m----> 1\u001b[1;33m \u001b[1;34m\"someverylongstringsentence\"\u001b[0m\u001b[1;33m.\u001b[0m\u001b[0mindex\u001b[0m\u001b[1;33m(\u001b[0m\u001b[1;34m\"strong\"\u001b[0m\u001b[1;33m)\u001b[0m\u001b[1;33m\u001b[0m\u001b[0m\n\u001b[0m",
      "\u001b[1;31mValueError\u001b[0m: substring not found"
     ]
    }
   ],
   "source": [
    "\"someverylongstringsentence\".index(\"strong\")"
   ]
  },
  {
   "cell_type": "markdown",
   "metadata": {},
   "source": [
    "Для поиска места последнего вхождения подстроки можно воспользоваться методами rfind() и rindex()."
   ]
  },
  {
   "cell_type": "markdown",
   "metadata": {},
   "source": [
    "Замена подстроки\n",
    "Для замены подстроки в строке используется метод replace(). По умолчанию заменяет все вхождения (если не указано число - количество замен):"
   ]
  },
  {
   "cell_type": "code",
   "execution_count": 49,
   "metadata": {},
   "outputs": [
    {
     "data": {
      "text/plain": [
       "'someverywidestringsentence'"
      ]
     },
     "execution_count": 49,
     "metadata": {},
     "output_type": "execute_result"
    }
   ],
   "source": [
    "\"someverylongstringsentence\".replace(\"long\",\"wide\")"
   ]
  },
  {
   "cell_type": "markdown",
   "metadata": {},
   "source": [
    "Метод translate() позволяет организовать множественную замену, принимающий словарь трансляции:"
   ]
  },
  {
   "cell_type": "code",
   "execution_count": 50,
   "metadata": {},
   "outputs": [
    {
     "data": {
      "text/plain": [
       "'thi$ i$ a $tring, $0m3v3ryl0ng$tring$3nt3nc3'"
      ]
     },
     "execution_count": 50,
     "metadata": {},
     "output_type": "execute_result"
    }
   ],
   "source": [
    "trans_map = {ord(\"s\"):\"$\", ord(\"e\"):\"3\", ord(\"o\"):\"0\"}\n",
    "\n",
    "\"this is a string, someverylongstringsentence\".translate(trans_map)"
   ]
  },
  {
   "cell_type": "markdown",
   "metadata": {},
   "source": [
    "Предикаты\n",
    "Проверяют строку на соответствие некоторому формату: isdigit(), islpha(), islower(), isupper()"
   ]
  }
 ],
 "metadata": {
  "kernelspec": {
   "display_name": "Python 3",
   "language": "python",
   "name": "python3"
  },
  "language_info": {
   "codemirror_mode": {
    "name": "ipython",
    "version": 3
   },
   "file_extension": ".py",
   "mimetype": "text/x-python",
   "name": "python",
   "nbconvert_exporter": "python",
   "pygments_lexer": "ipython3",
   "version": "3.6.5"
  }
 },
 "nbformat": 4,
 "nbformat_minor": 2
}
